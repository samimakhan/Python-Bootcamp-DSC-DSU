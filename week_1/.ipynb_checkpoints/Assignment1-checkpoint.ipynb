{
 "cells": [
  {
   "cell_type": "code",
   "execution_count": 21,
   "metadata": {},
   "outputs": [
    {
     "name": "stdout",
     "output_type": "stream",
     "text": [
      "Enter your name:Samima\n",
      " S\n",
      "  a\n",
      "   m\n",
      "    i\n",
      "     m\n",
      "      a\n"
     ]
    }
   ],
   "source": [
    "# Question1 \n",
    "name = input(\"Enter your name:\")\n",
    "space = \" \"\n",
    "for i in range(len(name)):\n",
    "     print (' '*i, name[i])"
   ]
  },
  {
   "cell_type": "code",
   "execution_count": 20,
   "metadata": {},
   "outputs": [
    {
     "name": "stdout",
     "output_type": "stream",
     "text": [
      "Enter song lyrics, each line separated by a .: I found a love for me darling just dive right in and follow my lead. well I found a girl beautiful and sweet I never knew you were the someone waiting for me.  because we were just kids when we fell in love not knowing what it was I will not give you up this time.  but darling, just kiss me slow, your heart is all I own and in your eyes you are holding mine.  baby, I am dancing in the dark with you between my arms barefoot on the grass, listening to our favorite song.  when you said you looked a mess, I whispered underneath my breath but you heard it, darling, you look perfect tonight.  well I found a woman, stronger than anyone I know she shares my dreams, I hope that someday I will share her home.  I found a love, to carry more than just my secrets to carry love, to carry children of our own.  we are still kids, but we are so in love fighting against all odds I know we will be alright this time.  darling, just hold my hand be my girl, I will be your man I see my future in your eyes.  baby, I am dancing in the dark, with you between my arms barefoot on the grass, listening to our favorite song.  when I saw you in that dress, looking so beautiful I don't deserve this, darling, you look perfect tonight.  baby, I am dancing in the dark, with you between my arms barefoot on the grass, listening to our favorite song.  I have faith in what I see now I know I have met an angel in person and she looks perfect I don't deserve this.  you look perfect tonight.\n",
      "\n",
      "I found a love for me darling just dive right in and follow my lead\n",
      "\n",
      " well I found a girl beautiful and sweet I never knew you were the someone waiting for me\n",
      "\n",
      "  because we were just kids when we fell in love not knowing what it was I will not give you up this time\n",
      "\n",
      "  but darling, just kiss me slow, your heart is all I own and in your eyes you are holding mine\n",
      "\n",
      "  baby, I am dancing in the dark with you between my arms barefoot on the grass, listening to our favorite song\n",
      "\n",
      "  when you said you looked a mess, I whispered underneath my breath but you heard it, darling, you look perfect tonight\n",
      "\n",
      "  well I found a woman, stronger than anyone I know she shares my dreams, I hope that someday I will share her home\n",
      "\n",
      "  I found a love, to carry more than just my secrets to carry love, to carry children of our own\n",
      "\n",
      "  we are still kids, but we are so in love fighting against all odds I know we will be alright this time\n",
      "\n",
      "  darling, just hold my hand be my girl, I will be your man I see my future in your eyes\n",
      "\n",
      "  baby, I am dancing in the dark, with you between my arms barefoot on the grass, listening to our favorite song\n",
      "\n",
      "  when I saw you in that dress, looking so beautiful I don't deserve this, darling, you look perfect tonight\n",
      "\n",
      "  baby, I am dancing in the dark, with you between my arms barefoot on the grass, listening to our favorite song\n",
      "\n",
      "  I have faith in what I see now I know I have met an angel in person and she looks perfect I don't deserve this\n",
      "\n",
      "  you look perfect tonight\n",
      "\n",
      "\n"
     ]
    }
   ],
   "source": [
    "\n",
    "#Question3\n",
    "# try it out with the following lyrics:\n",
    "lyrics = \"I found a love for me darling just dive right in and follow my lead.\\\n",
    "well I found a girl beautiful and sweet I never knew you were the someone waiting for me.\\\n",
    " because we were just kids when we fell in love not knowing what it was I will not give you up this time.\\\n",
    " but darling, just kiss me slow, your heart is all I own and in your eyes you are holding mine.\\\n",
    " baby, I am dancing in the dark with you between my arms barefoot on the grass, listening to our favorite song.\\\n",
    " when you said you looked a mess, I whispered underneath my breath but you heard it, darling, you look perfect tonight.\\\n",
    " well I found a woman, stronger than anyone I know she shares my dreams, I hope that someday I will share her home.\\\n",
    " I found a love, to carry more than just my secrets to carry love, to carry children of our own.\\\n",
    " we are still kids, but we are so in love fighting against all odds I know we will be alright this time.\\\n",
    " darling, just hold my hand be my girl, I will be your man I see my future in your eyes.\\\n",
    " baby, I am dancing in the dark, with you between my arms barefoot on the grass, listening to our favorite song.\\\n",
    " when I saw you in that dress, looking so beautiful I don't deserve this, darling, you look perfect tonight.\\\n",
    " baby, I am dancing in the dark, with you between my arms barefoot on the grass, listening to our favorite song.\\\n",
    " I have faith in what I see now I know I have met an angel in person and she looks perfect I don't deserve this.\\\n",
    " you look perfect tonight.\"\n",
    "import time\n",
    "lyrics = input(\"Enter song lyrics, each line separated by a .: \")\n",
    "lyrics_list = lyrics.split(\".\")\n",
    "for i in range(len(lyrics_list)):\n",
    "    print()\n",
    "    print(lyrics_list[i])\n",
    "    time.sleep(1)"
   ]
  },
  {
   "cell_type": "code",
   "execution_count": 15,
   "metadata": {},
   "outputs": [
    {
     "name": "stdout",
     "output_type": "stream",
     "text": [
      "Enter student details:**01** | **Samima** | **21** | **60**\n",
      "Enter student details:**02** | **Shesa** | **23** | **40**\n",
      "Enter student details:**04** | **rere** | **51** | **30**\n",
      "Enter student details:**06** | **Tyler** | **34** | **23**\n",
      "Enter student details:**07** | **Yaer** | **41** | **20**\n",
      "ROLL NO | NAME | AGE | MARKS\n",
      "01 | Samima | 21 | 60 | \n",
      "02 | Shesa | 23 | 40 | \n",
      "04 | rere | 51 | 30 | \n",
      "06 | Tyler | 34 | 23 | \n",
      "07 | Yaer | 41 | 20 | \n",
      "\n",
      "class average:34.6\n",
      "class highest:60\n",
      "class lowest:20\n"
     ]
    }
   ],
   "source": [
    "#Question2\n",
    "total_list= []\n",
    "class_highest = 0\n",
    "class_lowest = 100\n",
    "sum = 0\n",
    "for i in range(5):\n",
    "    record = input(\"Enter student details:\")\n",
    "    record_list = record.split(\"|\")\n",
    "    record_dict = {\"roll_num\":\"\", \"name\":\"\",\"age\":\"\",\"marks\":\"\" }\n",
    "    i = 0\n",
    "  \n",
    "    for key in record_dict:\n",
    "        record_list[i] = record_list[i].rstrip(\"** \")\n",
    "        record_list[i] = record_list[i].lstrip(\" **\")\n",
    "        record_dict[key] = record_list[i]\n",
    "        if key == \"marks\":\n",
    "            sum= sum + int(record_dict[key])\n",
    "            if int(record_dict[key]) > class_highest:\n",
    "                class_highest = int(record_dict[key])\n",
    "            elif int(record_dict[key]) < class_lowest:\n",
    "                class_lowest = int(record_dict[key])\n",
    "        i +=1;\n",
    "    total_list.append(record_dict)\n",
    "average = sum/5\n",
    "\n",
    "print(\"ROLL NO | NAME | AGE | MARKS\")\n",
    "for dictt in total_list:\n",
    "    for key in dictt:\n",
    "        print(dictt[key], end= \" | \")\n",
    "    print()\n",
    "    \n",
    "print()\n",
    "print(\"class average:\" + str(average))\n",
    "print(\"class highest:\" + str(class_highest))\n",
    "print(\"class lowest:\" + str(class_lowest))"
   ]
  },
  {
   "cell_type": "code",
   "execution_count": null,
   "metadata": {},
   "outputs": [],
   "source": []
  },
  {
   "cell_type": "code",
   "execution_count": null,
   "metadata": {},
   "outputs": [],
   "source": []
  }
 ],
 "metadata": {
  "kernelspec": {
   "display_name": "Python 3",
   "language": "python",
   "name": "python3"
  },
  "language_info": {
   "codemirror_mode": {
    "name": "ipython",
    "version": 3
   },
   "file_extension": ".py",
   "mimetype": "text/x-python",
   "name": "python",
   "nbconvert_exporter": "python",
   "pygments_lexer": "ipython3",
   "version": "3.7.4"
  }
 },
 "nbformat": 4,
 "nbformat_minor": 2
}
